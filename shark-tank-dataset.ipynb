{
 "cells": [
  {
   "cell_type": "code",
   "execution_count": 1,
   "id": "41b9e269",
   "metadata": {
    "_cell_guid": "b1076dfc-b9ad-4769-8c92-a6c4dae69d19",
    "_uuid": "8f2839f25d086af736a60e9eeb907d3b93b6e0e5",
    "execution": {
     "iopub.execute_input": "2023-01-01T18:39:35.226635Z",
     "iopub.status.busy": "2023-01-01T18:39:35.225558Z",
     "iopub.status.idle": "2023-01-01T18:39:35.247529Z",
     "shell.execute_reply": "2023-01-01T18:39:35.246215Z"
    },
    "papermill": {
     "duration": 0.040179,
     "end_time": "2023-01-01T18:39:35.251041",
     "exception": false,
     "start_time": "2023-01-01T18:39:35.210862",
     "status": "completed"
    },
    "tags": []
   },
   "outputs": [
    {
     "name": "stdout",
     "output_type": "stream",
     "text": [
      "/kaggle/input/shark-tank-india-companies/dataset.csv\n"
     ]
    }
   ],
   "source": [
    "# This Python 3 environment comes with many helpful analytics libraries installed\n",
    "# It is defined by the kaggle/python Docker image: https://github.com/kaggle/docker-python\n",
    "# For example, here's several helpful packages to load\n",
    "\n",
    "import numpy as np # linear algebra\n",
    "import pandas as pd # data processing, CSV file I/O (e.g. pd.read_csv)\n",
    "\n",
    "# Input data files are available in the read-only \"../input/\" directory\n",
    "# For example, running this (by clicking run or pressing Shift+Enter) will list all files under the input directory\n",
    "\n",
    "import os\n",
    "for dirname, _, filenames in os.walk('/kaggle/input'):\n",
    "    for filename in filenames:\n",
    "        print(os.path.join(dirname, filename))\n",
    "\n",
    "# You can write up to 20GB to the current directory (/kaggle/working/) that gets preserved as output when you create a version using \"Save & Run All\" \n",
    "# You can also write temporary files to /kaggle/temp/, but they won't be saved outside of the current session"
   ]
  },
  {
   "cell_type": "code",
   "execution_count": 2,
   "id": "6273c11b",
   "metadata": {
    "execution": {
     "iopub.execute_input": "2023-01-01T18:39:35.274245Z",
     "iopub.status.busy": "2023-01-01T18:39:35.273509Z",
     "iopub.status.idle": "2023-01-01T18:39:35.292009Z",
     "shell.execute_reply": "2023-01-01T18:39:35.290993Z"
    },
    "papermill": {
     "duration": 0.032659,
     "end_time": "2023-01-01T18:39:35.294741",
     "exception": false,
     "start_time": "2023-01-01T18:39:35.262082",
     "status": "completed"
    },
    "tags": []
   },
   "outputs": [],
   "source": [
    "df=pd.read_csv('/kaggle/input/shark-tank-india-companies/dataset.csv')"
   ]
  },
  {
   "cell_type": "code",
   "execution_count": 3,
   "id": "f9b5261a",
   "metadata": {
    "execution": {
     "iopub.execute_input": "2023-01-01T18:39:35.319350Z",
     "iopub.status.busy": "2023-01-01T18:39:35.318574Z",
     "iopub.status.idle": "2023-01-01T18:39:35.353892Z",
     "shell.execute_reply": "2023-01-01T18:39:35.352699Z"
    },
    "papermill": {
     "duration": 0.051482,
     "end_time": "2023-01-01T18:39:35.356374",
     "exception": false,
     "start_time": "2023-01-01T18:39:35.304892",
     "status": "completed"
    },
    "tags": []
   },
   "outputs": [
    {
     "data": {
      "text/html": [
       "<div>\n",
       "<style scoped>\n",
       "    .dataframe tbody tr th:only-of-type {\n",
       "        vertical-align: middle;\n",
       "    }\n",
       "\n",
       "    .dataframe tbody tr th {\n",
       "        vertical-align: top;\n",
       "    }\n",
       "\n",
       "    .dataframe thead th {\n",
       "        text-align: right;\n",
       "    }\n",
       "</style>\n",
       "<table border=\"1\" class=\"dataframe\">\n",
       "  <thead>\n",
       "    <tr style=\"text-align: right;\">\n",
       "      <th></th>\n",
       "      <th>episode</th>\n",
       "      <th>pitch_no</th>\n",
       "      <th>company</th>\n",
       "      <th>idea</th>\n",
       "      <th>deal</th>\n",
       "      <th>ashneer</th>\n",
       "      <th>namita</th>\n",
       "      <th>anupam</th>\n",
       "      <th>vineeta</th>\n",
       "      <th>aman</th>\n",
       "      <th>peyush</th>\n",
       "      <th>ghazal</th>\n",
       "    </tr>\n",
       "  </thead>\n",
       "  <tbody>\n",
       "    <tr>\n",
       "      <th>0</th>\n",
       "      <td>1</td>\n",
       "      <td>1</td>\n",
       "      <td>BluePine Industries</td>\n",
       "      <td>Frozen Momos</td>\n",
       "      <td>75 lakhs for 18% equity</td>\n",
       "      <td>Y</td>\n",
       "      <td>N</td>\n",
       "      <td>N</td>\n",
       "      <td>Y</td>\n",
       "      <td>Y</td>\n",
       "      <td>NaN</td>\n",
       "      <td>NaN</td>\n",
       "    </tr>\n",
       "    <tr>\n",
       "      <th>1</th>\n",
       "      <td>1</td>\n",
       "      <td>2</td>\n",
       "      <td>Booz scooters</td>\n",
       "      <td>Renting e-bike for mobility in private spaces</td>\n",
       "      <td>40 lakhs for 50% equity</td>\n",
       "      <td>Y</td>\n",
       "      <td>N</td>\n",
       "      <td>N</td>\n",
       "      <td>Y</td>\n",
       "      <td>N</td>\n",
       "      <td>NaN</td>\n",
       "      <td>NaN</td>\n",
       "    </tr>\n",
       "    <tr>\n",
       "      <th>2</th>\n",
       "      <td>1</td>\n",
       "      <td>3</td>\n",
       "      <td>Heart up my Sleeves</td>\n",
       "      <td>Detachable Sleeves</td>\n",
       "      <td>25 lakhs for 30% equity</td>\n",
       "      <td>N</td>\n",
       "      <td>N</td>\n",
       "      <td>Y</td>\n",
       "      <td>Y</td>\n",
       "      <td>N</td>\n",
       "      <td>NaN</td>\n",
       "      <td>NaN</td>\n",
       "    </tr>\n",
       "    <tr>\n",
       "      <th>3</th>\n",
       "      <td>2</td>\n",
       "      <td>4</td>\n",
       "      <td>Tagz Foods</td>\n",
       "      <td>Healthy Potato Chips</td>\n",
       "      <td>No Deal</td>\n",
       "      <td>Y</td>\n",
       "      <td>N</td>\n",
       "      <td>N</td>\n",
       "      <td>N</td>\n",
       "      <td>N</td>\n",
       "      <td>NaN</td>\n",
       "      <td>NaN</td>\n",
       "    </tr>\n",
       "    <tr>\n",
       "      <th>4</th>\n",
       "      <td>2</td>\n",
       "      <td>5</td>\n",
       "      <td>Head and Heart</td>\n",
       "      <td>Brain Development Course</td>\n",
       "      <td>No Deal</td>\n",
       "      <td>N</td>\n",
       "      <td>N</td>\n",
       "      <td>N</td>\n",
       "      <td>N</td>\n",
       "      <td>N</td>\n",
       "      <td>NaN</td>\n",
       "      <td>NaN</td>\n",
       "    </tr>\n",
       "  </tbody>\n",
       "</table>\n",
       "</div>"
      ],
      "text/plain": [
       "   episode  pitch_no              company  \\\n",
       "0        1         1  BluePine Industries   \n",
       "1        1         2        Booz scooters   \n",
       "2        1         3  Heart up my Sleeves   \n",
       "3        2         4           Tagz Foods   \n",
       "4        2         5       Head and Heart   \n",
       "\n",
       "                                            idea                     deal  \\\n",
       "0                                   Frozen Momos  75 lakhs for 18% equity   \n",
       "1  Renting e-bike for mobility in private spaces  40 lakhs for 50% equity   \n",
       "2                             Detachable Sleeves  25 lakhs for 30% equity   \n",
       "3                           Healthy Potato Chips                  No Deal   \n",
       "4                       Brain Development Course                  No Deal   \n",
       "\n",
       "  ashneer namita anupam vineeta aman peyush ghazal  \n",
       "0       Y      N      N       Y    Y    NaN    NaN  \n",
       "1       Y      N      N       Y    N    NaN    NaN  \n",
       "2       N      N      Y       Y    N    NaN    NaN  \n",
       "3       Y      N      N       N    N    NaN    NaN  \n",
       "4       N      N      N       N    N    NaN    NaN  "
      ]
     },
     "execution_count": 3,
     "metadata": {},
     "output_type": "execute_result"
    }
   ],
   "source": [
    "df.head()"
   ]
  },
  {
   "cell_type": "code",
   "execution_count": 4,
   "id": "c24b52bc",
   "metadata": {
    "execution": {
     "iopub.execute_input": "2023-01-01T18:39:35.379879Z",
     "iopub.status.busy": "2023-01-01T18:39:35.379144Z",
     "iopub.status.idle": "2023-01-01T18:39:35.390390Z",
     "shell.execute_reply": "2023-01-01T18:39:35.388952Z"
    },
    "papermill": {
     "duration": 0.026505,
     "end_time": "2023-01-01T18:39:35.393236",
     "exception": false,
     "start_time": "2023-01-01T18:39:35.366731",
     "status": "completed"
    },
    "tags": []
   },
   "outputs": [],
   "source": [
    "df.set_index('pitch_no',inplace = True)"
   ]
  },
  {
   "cell_type": "code",
   "execution_count": 5,
   "id": "0e815a7b",
   "metadata": {
    "execution": {
     "iopub.execute_input": "2023-01-01T18:39:35.416069Z",
     "iopub.status.busy": "2023-01-01T18:39:35.415082Z",
     "iopub.status.idle": "2023-01-01T18:39:35.432896Z",
     "shell.execute_reply": "2023-01-01T18:39:35.431609Z"
    },
    "papermill": {
     "duration": 0.032097,
     "end_time": "2023-01-01T18:39:35.435651",
     "exception": false,
     "start_time": "2023-01-01T18:39:35.403554",
     "status": "completed"
    },
    "tags": []
   },
   "outputs": [
    {
     "data": {
      "text/html": [
       "<div>\n",
       "<style scoped>\n",
       "    .dataframe tbody tr th:only-of-type {\n",
       "        vertical-align: middle;\n",
       "    }\n",
       "\n",
       "    .dataframe tbody tr th {\n",
       "        vertical-align: top;\n",
       "    }\n",
       "\n",
       "    .dataframe thead th {\n",
       "        text-align: right;\n",
       "    }\n",
       "</style>\n",
       "<table border=\"1\" class=\"dataframe\">\n",
       "  <thead>\n",
       "    <tr style=\"text-align: right;\">\n",
       "      <th></th>\n",
       "      <th>episode</th>\n",
       "      <th>company</th>\n",
       "      <th>idea</th>\n",
       "      <th>deal</th>\n",
       "      <th>ashneer</th>\n",
       "      <th>namita</th>\n",
       "      <th>anupam</th>\n",
       "      <th>vineeta</th>\n",
       "      <th>aman</th>\n",
       "      <th>peyush</th>\n",
       "      <th>ghazal</th>\n",
       "    </tr>\n",
       "    <tr>\n",
       "      <th>pitch_no</th>\n",
       "      <th></th>\n",
       "      <th></th>\n",
       "      <th></th>\n",
       "      <th></th>\n",
       "      <th></th>\n",
       "      <th></th>\n",
       "      <th></th>\n",
       "      <th></th>\n",
       "      <th></th>\n",
       "      <th></th>\n",
       "      <th></th>\n",
       "    </tr>\n",
       "  </thead>\n",
       "  <tbody>\n",
       "    <tr>\n",
       "      <th>1</th>\n",
       "      <td>1</td>\n",
       "      <td>BluePine Industries</td>\n",
       "      <td>Frozen Momos</td>\n",
       "      <td>75 lakhs for 18% equity</td>\n",
       "      <td>Y</td>\n",
       "      <td>N</td>\n",
       "      <td>N</td>\n",
       "      <td>Y</td>\n",
       "      <td>Y</td>\n",
       "      <td>NaN</td>\n",
       "      <td>NaN</td>\n",
       "    </tr>\n",
       "    <tr>\n",
       "      <th>2</th>\n",
       "      <td>1</td>\n",
       "      <td>Booz scooters</td>\n",
       "      <td>Renting e-bike for mobility in private spaces</td>\n",
       "      <td>40 lakhs for 50% equity</td>\n",
       "      <td>Y</td>\n",
       "      <td>N</td>\n",
       "      <td>N</td>\n",
       "      <td>Y</td>\n",
       "      <td>N</td>\n",
       "      <td>NaN</td>\n",
       "      <td>NaN</td>\n",
       "    </tr>\n",
       "    <tr>\n",
       "      <th>3</th>\n",
       "      <td>1</td>\n",
       "      <td>Heart up my Sleeves</td>\n",
       "      <td>Detachable Sleeves</td>\n",
       "      <td>25 lakhs for 30% equity</td>\n",
       "      <td>N</td>\n",
       "      <td>N</td>\n",
       "      <td>Y</td>\n",
       "      <td>Y</td>\n",
       "      <td>N</td>\n",
       "      <td>NaN</td>\n",
       "      <td>NaN</td>\n",
       "    </tr>\n",
       "    <tr>\n",
       "      <th>4</th>\n",
       "      <td>2</td>\n",
       "      <td>Tagz Foods</td>\n",
       "      <td>Healthy Potato Chips</td>\n",
       "      <td>No Deal</td>\n",
       "      <td>Y</td>\n",
       "      <td>N</td>\n",
       "      <td>N</td>\n",
       "      <td>N</td>\n",
       "      <td>N</td>\n",
       "      <td>NaN</td>\n",
       "      <td>NaN</td>\n",
       "    </tr>\n",
       "    <tr>\n",
       "      <th>5</th>\n",
       "      <td>2</td>\n",
       "      <td>Head and Heart</td>\n",
       "      <td>Brain Development Course</td>\n",
       "      <td>No Deal</td>\n",
       "      <td>N</td>\n",
       "      <td>N</td>\n",
       "      <td>N</td>\n",
       "      <td>N</td>\n",
       "      <td>N</td>\n",
       "      <td>NaN</td>\n",
       "      <td>NaN</td>\n",
       "    </tr>\n",
       "  </tbody>\n",
       "</table>\n",
       "</div>"
      ],
      "text/plain": [
       "          episode              company  \\\n",
       "pitch_no                                 \n",
       "1               1  BluePine Industries   \n",
       "2               1        Booz scooters   \n",
       "3               1  Heart up my Sleeves   \n",
       "4               2           Tagz Foods   \n",
       "5               2       Head and Heart   \n",
       "\n",
       "                                                   idea  \\\n",
       "pitch_no                                                  \n",
       "1                                          Frozen Momos   \n",
       "2         Renting e-bike for mobility in private spaces   \n",
       "3                                    Detachable Sleeves   \n",
       "4                                  Healthy Potato Chips   \n",
       "5                              Brain Development Course   \n",
       "\n",
       "                             deal ashneer namita anupam vineeta aman peyush  \\\n",
       "pitch_no                                                                      \n",
       "1         75 lakhs for 18% equity       Y      N      N       Y    Y    NaN   \n",
       "2         40 lakhs for 50% equity       Y      N      N       Y    N    NaN   \n",
       "3         25 lakhs for 30% equity       N      N      Y       Y    N    NaN   \n",
       "4                         No Deal       Y      N      N       N    N    NaN   \n",
       "5                         No Deal       N      N      N       N    N    NaN   \n",
       "\n",
       "         ghazal  \n",
       "pitch_no         \n",
       "1           NaN  \n",
       "2           NaN  \n",
       "3           NaN  \n",
       "4           NaN  \n",
       "5           NaN  "
      ]
     },
     "execution_count": 5,
     "metadata": {},
     "output_type": "execute_result"
    }
   ],
   "source": [
    "df.head()"
   ]
  },
  {
   "cell_type": "markdown",
   "id": "0d17018d",
   "metadata": {
    "papermill": {
     "duration": 0.010234,
     "end_time": "2023-01-01T18:39:35.457105",
     "exception": false,
     "start_time": "2023-01-01T18:39:35.446871",
     "status": "completed"
    },
    "tags": []
   },
   "source": [
    "handling midding values\n",
    "\n",
    "1. Imputation/replacements."
   ]
  },
  {
   "cell_type": "code",
   "execution_count": 6,
   "id": "c38de8ea",
   "metadata": {
    "execution": {
     "iopub.execute_input": "2023-01-01T18:39:35.480367Z",
     "iopub.status.busy": "2023-01-01T18:39:35.479939Z",
     "iopub.status.idle": "2023-01-01T18:39:35.503258Z",
     "shell.execute_reply": "2023-01-01T18:39:35.502052Z"
    },
    "papermill": {
     "duration": 0.038461,
     "end_time": "2023-01-01T18:39:35.506284",
     "exception": false,
     "start_time": "2023-01-01T18:39:35.467823",
     "status": "completed"
    },
    "tags": []
   },
   "outputs": [
    {
     "name": "stdout",
     "output_type": "stream",
     "text": [
      "<class 'pandas.core.frame.DataFrame'>\n",
      "Int64Index: 117 entries, 1 to 117\n",
      "Data columns (total 11 columns):\n",
      " #   Column   Non-Null Count  Dtype \n",
      "---  ------   --------------  ----- \n",
      " 0   episode  117 non-null    int64 \n",
      " 1   company  117 non-null    object\n",
      " 2   idea     117 non-null    object\n",
      " 3   deal     117 non-null    object\n",
      " 4   ashneer  98 non-null     object\n",
      " 5   namita   106 non-null    object\n",
      " 6   anupam   117 non-null    object\n",
      " 7   vineeta  66 non-null     object\n",
      " 8   aman     98 non-null     object\n",
      " 9   peyush   88 non-null     object\n",
      " 10  ghazal   26 non-null     object\n",
      "dtypes: int64(1), object(10)\n",
      "memory usage: 11.0+ KB\n"
     ]
    }
   ],
   "source": [
    "df.info()"
   ]
  },
  {
   "cell_type": "code",
   "execution_count": 7,
   "id": "1fbcffdb",
   "metadata": {
    "execution": {
     "iopub.execute_input": "2023-01-01T18:39:35.531654Z",
     "iopub.status.busy": "2023-01-01T18:39:35.530320Z",
     "iopub.status.idle": "2023-01-01T18:39:35.540096Z",
     "shell.execute_reply": "2023-01-01T18:39:35.538803Z"
    },
    "papermill": {
     "duration": 0.024556,
     "end_time": "2023-01-01T18:39:35.542696",
     "exception": false,
     "start_time": "2023-01-01T18:39:35.518140",
     "status": "completed"
    },
    "tags": []
   },
   "outputs": [
    {
     "data": {
      "text/plain": [
       "episode     0\n",
       "company     0\n",
       "idea        0\n",
       "deal        0\n",
       "ashneer    19\n",
       "namita     11\n",
       "anupam      0\n",
       "vineeta    51\n",
       "aman       19\n",
       "peyush     29\n",
       "ghazal     91\n",
       "dtype: int64"
      ]
     },
     "execution_count": 7,
     "metadata": {},
     "output_type": "execute_result"
    }
   ],
   "source": [
    "df.isnull().sum()"
   ]
  },
  {
   "cell_type": "code",
   "execution_count": 8,
   "id": "32d4935b",
   "metadata": {
    "execution": {
     "iopub.execute_input": "2023-01-01T18:39:35.566325Z",
     "iopub.status.busy": "2023-01-01T18:39:35.565896Z",
     "iopub.status.idle": "2023-01-01T18:39:35.571895Z",
     "shell.execute_reply": "2023-01-01T18:39:35.570643Z"
    },
    "papermill": {
     "duration": 0.020746,
     "end_time": "2023-01-01T18:39:35.574325",
     "exception": false,
     "start_time": "2023-01-01T18:39:35.553579",
     "status": "completed"
    },
    "tags": []
   },
   "outputs": [],
   "source": [
    "df['ashneer'].fillna('N',inplace=True)"
   ]
  },
  {
   "cell_type": "code",
   "execution_count": 9,
   "id": "00a554ee",
   "metadata": {
    "execution": {
     "iopub.execute_input": "2023-01-01T18:39:35.598073Z",
     "iopub.status.busy": "2023-01-01T18:39:35.597619Z",
     "iopub.status.idle": "2023-01-01T18:39:35.611224Z",
     "shell.execute_reply": "2023-01-01T18:39:35.609959Z"
    },
    "papermill": {
     "duration": 0.028694,
     "end_time": "2023-01-01T18:39:35.613896",
     "exception": false,
     "start_time": "2023-01-01T18:39:35.585202",
     "status": "completed"
    },
    "tags": []
   },
   "outputs": [
    {
     "name": "stdout",
     "output_type": "stream",
     "text": [
      "<class 'pandas.core.frame.DataFrame'>\n",
      "Int64Index: 117 entries, 1 to 117\n",
      "Data columns (total 11 columns):\n",
      " #   Column   Non-Null Count  Dtype \n",
      "---  ------   --------------  ----- \n",
      " 0   episode  117 non-null    int64 \n",
      " 1   company  117 non-null    object\n",
      " 2   idea     117 non-null    object\n",
      " 3   deal     117 non-null    object\n",
      " 4   ashneer  117 non-null    object\n",
      " 5   namita   106 non-null    object\n",
      " 6   anupam   117 non-null    object\n",
      " 7   vineeta  66 non-null     object\n",
      " 8   aman     98 non-null     object\n",
      " 9   peyush   88 non-null     object\n",
      " 10  ghazal   26 non-null     object\n",
      "dtypes: int64(1), object(10)\n",
      "memory usage: 11.0+ KB\n"
     ]
    }
   ],
   "source": [
    "df.info()"
   ]
  },
  {
   "cell_type": "code",
   "execution_count": 10,
   "id": "a19b38e2",
   "metadata": {
    "execution": {
     "iopub.execute_input": "2023-01-01T18:39:35.637978Z",
     "iopub.status.busy": "2023-01-01T18:39:35.637511Z",
     "iopub.status.idle": "2023-01-01T18:39:35.646832Z",
     "shell.execute_reply": "2023-01-01T18:39:35.645339Z"
    },
    "papermill": {
     "duration": 0.024659,
     "end_time": "2023-01-01T18:39:35.649475",
     "exception": false,
     "start_time": "2023-01-01T18:39:35.624816",
     "status": "completed"
    },
    "tags": []
   },
   "outputs": [
    {
     "data": {
      "text/plain": [
       "pitch_no\n",
       "1      Y\n",
       "2      Y\n",
       "3      N\n",
       "4      Y\n",
       "5      N\n",
       "      ..\n",
       "113    N\n",
       "114    N\n",
       "115    Y\n",
       "116    N\n",
       "117    N\n",
       "Name: ashneer, Length: 117, dtype: object"
      ]
     },
     "execution_count": 10,
     "metadata": {},
     "output_type": "execute_result"
    }
   ],
   "source": [
    "df['ashneer']"
   ]
  },
  {
   "cell_type": "code",
   "execution_count": 11,
   "id": "7ca1ce90",
   "metadata": {
    "execution": {
     "iopub.execute_input": "2023-01-01T18:39:35.674469Z",
     "iopub.status.busy": "2023-01-01T18:39:35.673573Z",
     "iopub.status.idle": "2023-01-01T18:39:35.680622Z",
     "shell.execute_reply": "2023-01-01T18:39:35.679591Z"
    },
    "papermill": {
     "duration": 0.022481,
     "end_time": "2023-01-01T18:39:35.683045",
     "exception": false,
     "start_time": "2023-01-01T18:39:35.660564",
     "status": "completed"
    },
    "tags": []
   },
   "outputs": [],
   "source": [
    "df['namita'].fillna(df['namita'].mode()[0],inplace=True)"
   ]
  },
  {
   "cell_type": "code",
   "execution_count": 12,
   "id": "65c9ed3a",
   "metadata": {
    "execution": {
     "iopub.execute_input": "2023-01-01T18:39:35.707590Z",
     "iopub.status.busy": "2023-01-01T18:39:35.706324Z",
     "iopub.status.idle": "2023-01-01T18:39:35.716711Z",
     "shell.execute_reply": "2023-01-01T18:39:35.715422Z"
    },
    "papermill": {
     "duration": 0.025265,
     "end_time": "2023-01-01T18:39:35.719211",
     "exception": false,
     "start_time": "2023-01-01T18:39:35.693946",
     "status": "completed"
    },
    "tags": []
   },
   "outputs": [
    {
     "data": {
      "text/plain": [
       "episode     0\n",
       "company     0\n",
       "idea        0\n",
       "deal        0\n",
       "ashneer     0\n",
       "namita      0\n",
       "anupam      0\n",
       "vineeta    51\n",
       "aman       19\n",
       "peyush     29\n",
       "ghazal     91\n",
       "dtype: int64"
      ]
     },
     "execution_count": 12,
     "metadata": {},
     "output_type": "execute_result"
    }
   ],
   "source": [
    "df.isnull().sum()"
   ]
  },
  {
   "cell_type": "markdown",
   "id": "89c4ad4e",
   "metadata": {
    "papermill": {
     "duration": 0.010897,
     "end_time": "2023-01-01T18:39:35.741612",
     "exception": false,
     "start_time": "2023-01-01T18:39:35.730715",
     "status": "completed"
    },
    "tags": []
   },
   "source": [
    "forwardfill or backwardfill\n",
    "    this is done generally for time series data"
   ]
  },
  {
   "cell_type": "code",
   "execution_count": 13,
   "id": "c9c087e9",
   "metadata": {
    "execution": {
     "iopub.execute_input": "2023-01-01T18:39:35.765681Z",
     "iopub.status.busy": "2023-01-01T18:39:35.765180Z",
     "iopub.status.idle": "2023-01-01T18:39:35.773676Z",
     "shell.execute_reply": "2023-01-01T18:39:35.772596Z"
    },
    "papermill": {
     "duration": 0.023551,
     "end_time": "2023-01-01T18:39:35.776029",
     "exception": false,
     "start_time": "2023-01-01T18:39:35.752478",
     "status": "completed"
    },
    "tags": []
   },
   "outputs": [],
   "source": [
    "df['vineeta'].fillna(method='ffill',inplace=True)"
   ]
  },
  {
   "cell_type": "code",
   "execution_count": 14,
   "id": "faffd462",
   "metadata": {
    "execution": {
     "iopub.execute_input": "2023-01-01T18:39:35.800593Z",
     "iopub.status.busy": "2023-01-01T18:39:35.799183Z",
     "iopub.status.idle": "2023-01-01T18:39:35.809665Z",
     "shell.execute_reply": "2023-01-01T18:39:35.808386Z"
    },
    "papermill": {
     "duration": 0.025211,
     "end_time": "2023-01-01T18:39:35.812188",
     "exception": false,
     "start_time": "2023-01-01T18:39:35.786977",
     "status": "completed"
    },
    "tags": []
   },
   "outputs": [
    {
     "data": {
      "text/plain": [
       "episode     0\n",
       "company     0\n",
       "idea        0\n",
       "deal        0\n",
       "ashneer     0\n",
       "namita      0\n",
       "anupam      0\n",
       "vineeta     0\n",
       "aman       19\n",
       "peyush     29\n",
       "ghazal     91\n",
       "dtype: int64"
      ]
     },
     "execution_count": 14,
     "metadata": {},
     "output_type": "execute_result"
    }
   ],
   "source": [
    "df.isnull().sum()"
   ]
  },
  {
   "cell_type": "code",
   "execution_count": 15,
   "id": "b87518d3",
   "metadata": {
    "execution": {
     "iopub.execute_input": "2023-01-01T18:39:35.836869Z",
     "iopub.status.busy": "2023-01-01T18:39:35.835850Z",
     "iopub.status.idle": "2023-01-01T18:39:35.844934Z",
     "shell.execute_reply": "2023-01-01T18:39:35.843967Z"
    },
    "papermill": {
     "duration": 0.024106,
     "end_time": "2023-01-01T18:39:35.847421",
     "exception": false,
     "start_time": "2023-01-01T18:39:35.823315",
     "status": "completed"
    },
    "tags": []
   },
   "outputs": [],
   "source": [
    "df['peyush'].fillna(method = 'bfill',inplace=True)"
   ]
  },
  {
   "cell_type": "code",
   "execution_count": 16,
   "id": "094ec7a8",
   "metadata": {
    "execution": {
     "iopub.execute_input": "2023-01-01T18:39:35.872977Z",
     "iopub.status.busy": "2023-01-01T18:39:35.872096Z",
     "iopub.status.idle": "2023-01-01T18:39:35.881872Z",
     "shell.execute_reply": "2023-01-01T18:39:35.880314Z"
    },
    "papermill": {
     "duration": 0.026039,
     "end_time": "2023-01-01T18:39:35.885072",
     "exception": false,
     "start_time": "2023-01-01T18:39:35.859033",
     "status": "completed"
    },
    "tags": []
   },
   "outputs": [
    {
     "data": {
      "text/plain": [
       "episode     0\n",
       "company     0\n",
       "idea        0\n",
       "deal        0\n",
       "ashneer     0\n",
       "namita      0\n",
       "anupam      0\n",
       "vineeta     0\n",
       "aman       19\n",
       "peyush      0\n",
       "ghazal     91\n",
       "dtype: int64"
      ]
     },
     "execution_count": 16,
     "metadata": {},
     "output_type": "execute_result"
    }
   ],
   "source": [
    "df.isnull().sum()"
   ]
  },
  {
   "cell_type": "markdown",
   "id": "c68385e8",
   "metadata": {
    "papermill": {
     "duration": 0.011965,
     "end_time": "2023-01-01T18:39:35.910723",
     "exception": false,
     "start_time": "2023-01-01T18:39:35.898758",
     "status": "completed"
    },
    "tags": []
   },
   "source": [
    "3.droping data\n",
    "*      -you can drop entire column \n",
    "*      -you do this only when more and more null values are there."
   ]
  },
  {
   "cell_type": "code",
   "execution_count": 17,
   "id": "091eae11",
   "metadata": {
    "execution": {
     "iopub.execute_input": "2023-01-01T18:39:35.948568Z",
     "iopub.status.busy": "2023-01-01T18:39:35.948022Z",
     "iopub.status.idle": "2023-01-01T18:39:35.954392Z",
     "shell.execute_reply": "2023-01-01T18:39:35.953455Z"
    },
    "papermill": {
     "duration": 0.025738,
     "end_time": "2023-01-01T18:39:35.956737",
     "exception": false,
     "start_time": "2023-01-01T18:39:35.930999",
     "status": "completed"
    },
    "tags": []
   },
   "outputs": [],
   "source": [
    "df.drop(columns=['ghazal'],inplace=True)"
   ]
  },
  {
   "cell_type": "code",
   "execution_count": 18,
   "id": "ece63dcf",
   "metadata": {
    "execution": {
     "iopub.execute_input": "2023-01-01T18:39:35.986283Z",
     "iopub.status.busy": "2023-01-01T18:39:35.985167Z",
     "iopub.status.idle": "2023-01-01T18:39:35.997013Z",
     "shell.execute_reply": "2023-01-01T18:39:35.995463Z"
    },
    "papermill": {
     "duration": 0.031165,
     "end_time": "2023-01-01T18:39:35.999878",
     "exception": false,
     "start_time": "2023-01-01T18:39:35.968713",
     "status": "completed"
    },
    "tags": []
   },
   "outputs": [
    {
     "data": {
      "text/plain": [
       "episode     0\n",
       "company     0\n",
       "idea        0\n",
       "deal        0\n",
       "ashneer     0\n",
       "namita      0\n",
       "anupam      0\n",
       "vineeta     0\n",
       "aman       19\n",
       "peyush      0\n",
       "dtype: int64"
      ]
     },
     "execution_count": 18,
     "metadata": {},
     "output_type": "execute_result"
    }
   ],
   "source": [
    "df.isnull().sum()"
   ]
  },
  {
   "cell_type": "code",
   "execution_count": 19,
   "id": "38806255",
   "metadata": {
    "execution": {
     "iopub.execute_input": "2023-01-01T18:39:36.026335Z",
     "iopub.status.busy": "2023-01-01T18:39:36.024772Z",
     "iopub.status.idle": "2023-01-01T18:39:36.034440Z",
     "shell.execute_reply": "2023-01-01T18:39:36.032996Z"
    },
    "papermill": {
     "duration": 0.025815,
     "end_time": "2023-01-01T18:39:36.037688",
     "exception": false,
     "start_time": "2023-01-01T18:39:36.011873",
     "status": "completed"
    },
    "tags": []
   },
   "outputs": [],
   "source": [
    "df.dropna(axis=0,subset=['aman'],inplace=True)"
   ]
  },
  {
   "cell_type": "code",
   "execution_count": 20,
   "id": "35b8ac95",
   "metadata": {
    "execution": {
     "iopub.execute_input": "2023-01-01T18:39:36.063384Z",
     "iopub.status.busy": "2023-01-01T18:39:36.062903Z",
     "iopub.status.idle": "2023-01-01T18:39:36.075414Z",
     "shell.execute_reply": "2023-01-01T18:39:36.073954Z"
    },
    "papermill": {
     "duration": 0.028942,
     "end_time": "2023-01-01T18:39:36.078349",
     "exception": false,
     "start_time": "2023-01-01T18:39:36.049407",
     "status": "completed"
    },
    "tags": []
   },
   "outputs": [
    {
     "data": {
      "text/plain": [
       "episode    0\n",
       "company    0\n",
       "idea       0\n",
       "deal       0\n",
       "ashneer    0\n",
       "namita     0\n",
       "anupam     0\n",
       "vineeta    0\n",
       "aman       0\n",
       "peyush     0\n",
       "dtype: int64"
      ]
     },
     "execution_count": 20,
     "metadata": {},
     "output_type": "execute_result"
    }
   ],
   "source": [
    "df.isnull().sum()"
   ]
  },
  {
   "cell_type": "code",
   "execution_count": 21,
   "id": "a8b16547",
   "metadata": {
    "execution": {
     "iopub.execute_input": "2023-01-01T18:39:36.104414Z",
     "iopub.status.busy": "2023-01-01T18:39:36.103891Z",
     "iopub.status.idle": "2023-01-01T18:39:36.120086Z",
     "shell.execute_reply": "2023-01-01T18:39:36.117803Z"
    },
    "papermill": {
     "duration": 0.033673,
     "end_time": "2023-01-01T18:39:36.124063",
     "exception": false,
     "start_time": "2023-01-01T18:39:36.090390",
     "status": "completed"
    },
    "tags": []
   },
   "outputs": [
    {
     "name": "stdout",
     "output_type": "stream",
     "text": [
      "<class 'pandas.core.frame.DataFrame'>\n",
      "Int64Index: 98 entries, 1 to 117\n",
      "Data columns (total 10 columns):\n",
      " #   Column   Non-Null Count  Dtype \n",
      "---  ------   --------------  ----- \n",
      " 0   episode  98 non-null     int64 \n",
      " 1   company  98 non-null     object\n",
      " 2   idea     98 non-null     object\n",
      " 3   deal     98 non-null     object\n",
      " 4   ashneer  98 non-null     object\n",
      " 5   namita   98 non-null     object\n",
      " 6   anupam   98 non-null     object\n",
      " 7   vineeta  98 non-null     object\n",
      " 8   aman     98 non-null     object\n",
      " 9   peyush   98 non-null     object\n",
      "dtypes: int64(1), object(9)\n",
      "memory usage: 8.4+ KB\n"
     ]
    }
   ],
   "source": [
    "df.info()"
   ]
  },
  {
   "cell_type": "markdown",
   "id": "c77f9ea1",
   "metadata": {
    "papermill": {
     "duration": 0.011217,
     "end_time": "2023-01-01T18:39:36.147969",
     "exception": false,
     "start_time": "2023-01-01T18:39:36.136752",
     "status": "completed"
    },
    "tags": []
   },
   "source": [
    "extracting numerical data from strings"
   ]
  },
  {
   "cell_type": "code",
   "execution_count": 22,
   "id": "b0ee4451",
   "metadata": {
    "execution": {
     "iopub.execute_input": "2023-01-01T18:39:36.173737Z",
     "iopub.status.busy": "2023-01-01T18:39:36.173279Z",
     "iopub.status.idle": "2023-01-01T18:39:36.191135Z",
     "shell.execute_reply": "2023-01-01T18:39:36.189921Z"
    },
    "papermill": {
     "duration": 0.03412,
     "end_time": "2023-01-01T18:39:36.193834",
     "exception": false,
     "start_time": "2023-01-01T18:39:36.159714",
     "status": "completed"
    },
    "tags": []
   },
   "outputs": [
    {
     "data": {
      "text/html": [
       "<div>\n",
       "<style scoped>\n",
       "    .dataframe tbody tr th:only-of-type {\n",
       "        vertical-align: middle;\n",
       "    }\n",
       "\n",
       "    .dataframe tbody tr th {\n",
       "        vertical-align: top;\n",
       "    }\n",
       "\n",
       "    .dataframe thead th {\n",
       "        text-align: right;\n",
       "    }\n",
       "</style>\n",
       "<table border=\"1\" class=\"dataframe\">\n",
       "  <thead>\n",
       "    <tr style=\"text-align: right;\">\n",
       "      <th></th>\n",
       "      <th>episode</th>\n",
       "      <th>company</th>\n",
       "      <th>idea</th>\n",
       "      <th>deal</th>\n",
       "      <th>ashneer</th>\n",
       "      <th>namita</th>\n",
       "      <th>anupam</th>\n",
       "      <th>vineeta</th>\n",
       "      <th>aman</th>\n",
       "      <th>peyush</th>\n",
       "    </tr>\n",
       "    <tr>\n",
       "      <th>pitch_no</th>\n",
       "      <th></th>\n",
       "      <th></th>\n",
       "      <th></th>\n",
       "      <th></th>\n",
       "      <th></th>\n",
       "      <th></th>\n",
       "      <th></th>\n",
       "      <th></th>\n",
       "      <th></th>\n",
       "      <th></th>\n",
       "    </tr>\n",
       "  </thead>\n",
       "  <tbody>\n",
       "    <tr>\n",
       "      <th>1</th>\n",
       "      <td>1</td>\n",
       "      <td>BluePine Industries</td>\n",
       "      <td>Frozen Momos</td>\n",
       "      <td>75 lakhs for 18% equity</td>\n",
       "      <td>Y</td>\n",
       "      <td>N</td>\n",
       "      <td>N</td>\n",
       "      <td>Y</td>\n",
       "      <td>Y</td>\n",
       "      <td>N</td>\n",
       "    </tr>\n",
       "    <tr>\n",
       "      <th>2</th>\n",
       "      <td>1</td>\n",
       "      <td>Booz scooters</td>\n",
       "      <td>Renting e-bike for mobility in private spaces</td>\n",
       "      <td>40 lakhs for 50% equity</td>\n",
       "      <td>Y</td>\n",
       "      <td>N</td>\n",
       "      <td>N</td>\n",
       "      <td>Y</td>\n",
       "      <td>N</td>\n",
       "      <td>N</td>\n",
       "    </tr>\n",
       "    <tr>\n",
       "      <th>3</th>\n",
       "      <td>1</td>\n",
       "      <td>Heart up my Sleeves</td>\n",
       "      <td>Detachable Sleeves</td>\n",
       "      <td>25 lakhs for 30% equity</td>\n",
       "      <td>N</td>\n",
       "      <td>N</td>\n",
       "      <td>Y</td>\n",
       "      <td>Y</td>\n",
       "      <td>N</td>\n",
       "      <td>N</td>\n",
       "    </tr>\n",
       "    <tr>\n",
       "      <th>4</th>\n",
       "      <td>2</td>\n",
       "      <td>Tagz Foods</td>\n",
       "      <td>Healthy Potato Chips</td>\n",
       "      <td>No Deal</td>\n",
       "      <td>Y</td>\n",
       "      <td>N</td>\n",
       "      <td>N</td>\n",
       "      <td>N</td>\n",
       "      <td>N</td>\n",
       "      <td>N</td>\n",
       "    </tr>\n",
       "    <tr>\n",
       "      <th>5</th>\n",
       "      <td>2</td>\n",
       "      <td>Head and Heart</td>\n",
       "      <td>Brain Development Course</td>\n",
       "      <td>No Deal</td>\n",
       "      <td>N</td>\n",
       "      <td>N</td>\n",
       "      <td>N</td>\n",
       "      <td>N</td>\n",
       "      <td>N</td>\n",
       "      <td>N</td>\n",
       "    </tr>\n",
       "  </tbody>\n",
       "</table>\n",
       "</div>"
      ],
      "text/plain": [
       "          episode              company  \\\n",
       "pitch_no                                 \n",
       "1               1  BluePine Industries   \n",
       "2               1        Booz scooters   \n",
       "3               1  Heart up my Sleeves   \n",
       "4               2           Tagz Foods   \n",
       "5               2       Head and Heart   \n",
       "\n",
       "                                                   idea  \\\n",
       "pitch_no                                                  \n",
       "1                                          Frozen Momos   \n",
       "2         Renting e-bike for mobility in private spaces   \n",
       "3                                    Detachable Sleeves   \n",
       "4                                  Healthy Potato Chips   \n",
       "5                              Brain Development Course   \n",
       "\n",
       "                             deal ashneer namita anupam vineeta aman peyush  \n",
       "pitch_no                                                                     \n",
       "1         75 lakhs for 18% equity       Y      N      N       Y    Y      N  \n",
       "2         40 lakhs for 50% equity       Y      N      N       Y    N      N  \n",
       "3         25 lakhs for 30% equity       N      N      Y       Y    N      N  \n",
       "4                         No Deal       Y      N      N       N    N      N  \n",
       "5                         No Deal       N      N      N       N    N      N  "
      ]
     },
     "execution_count": 22,
     "metadata": {},
     "output_type": "execute_result"
    }
   ],
   "source": [
    "df.head()"
   ]
  },
  {
   "cell_type": "code",
   "execution_count": 23,
   "id": "9d885603",
   "metadata": {
    "execution": {
     "iopub.execute_input": "2023-01-01T18:39:36.219325Z",
     "iopub.status.busy": "2023-01-01T18:39:36.218907Z",
     "iopub.status.idle": "2023-01-01T18:39:36.227648Z",
     "shell.execute_reply": "2023-01-01T18:39:36.226263Z"
    },
    "papermill": {
     "duration": 0.024733,
     "end_time": "2023-01-01T18:39:36.230567",
     "exception": false,
     "start_time": "2023-01-01T18:39:36.205834",
     "status": "completed"
    },
    "tags": []
   },
   "outputs": [
    {
     "data": {
      "text/plain": [
       "array(['75 lakhs for 18% equity', '40 lakhs for 50% equity',\n",
       "       '25 lakhs for 30% equity', 'No Deal', '75 lakhs for 6% equity',\n",
       "       '20 lakhs for 15% equity and 30 lakhs debt',\n",
       "       '75 lakhs for 7.5% equity', '50 lakhs for 20% equity',\n",
       "       '56 lakhs for 33.33% equity', '30 lakhs for 6% equity',\n",
       "       '50 lakhs for 10% equity', '30 lakhs for 20% equity',\n",
       "       '30 lakhs for 3% equity', '50 lakhs for 15% equity',\n",
       "       '40 lakhs for 24% equity', '1 crore for 10% equity',\n",
       "       '25 lakhs for 25% equity and ₹25 lakhs debt', '5 for 5% equity',\n",
       "       '75 lakhs for 15% Equity', '45 lakhs for 12% Equity',\n",
       "       '1.5 Crore for 15% Equity', '80 Lakhs for 20% Equity',\n",
       "       '1 lakh for 1% equity and 99 lakhs Debt',\n",
       "       '60 lakhs for 10% equity', '1 Crore for 10% equity',\n",
       "       '25 Lakhs for 75% equity & 22 lakhs Debt',\n",
       "       '35 lakhs for 24% equity', '80 lakhs for 6% Equity',\n",
       "       '75 lakhs for 2.68% Equity', '50 lakhs for 2% Equity',\n",
       "       '60 lakhs for 10% Equity', '1 crore for 10% Equity',\n",
       "       '40 lakhs for 20% Equity', '40 lakhs for 30% Equity'], dtype=object)"
      ]
     },
     "execution_count": 23,
     "metadata": {},
     "output_type": "execute_result"
    }
   ],
   "source": [
    "df['deal'].unique()"
   ]
  },
  {
   "cell_type": "code",
   "execution_count": 24,
   "id": "64c6dc0d",
   "metadata": {
    "execution": {
     "iopub.execute_input": "2023-01-01T18:39:36.256876Z",
     "iopub.status.busy": "2023-01-01T18:39:36.256414Z",
     "iopub.status.idle": "2023-01-01T18:39:36.264791Z",
     "shell.execute_reply": "2023-01-01T18:39:36.263300Z"
    },
    "papermill": {
     "duration": 0.024324,
     "end_time": "2023-01-01T18:39:36.267381",
     "exception": false,
     "start_time": "2023-01-01T18:39:36.243057",
     "status": "completed"
    },
    "tags": []
   },
   "outputs": [],
   "source": [
    "def equity_in_lakhs(s):\n",
    "    s=s.lower()\n",
    "    if(s=='no deal'):\n",
    "        amount=0\n",
    "    else:\n",
    "        if(s.split('for')[0].split(' ')[1].startswith('lakh')):\n",
    "            amount=float(s.split('for')[0].split(' ')[0])\n",
    "        elif(s.split('for')[0].split(' ')[1].startswith('crore')):\n",
    "            amount=float(s.split('for')[0].split(' ')[0])*100\n",
    "        else:\n",
    "            amount=-1\n",
    "    return amount"
   ]
  },
  {
   "cell_type": "code",
   "execution_count": null,
   "id": "291023fe",
   "metadata": {
    "papermill": {
     "duration": 0.011491,
     "end_time": "2023-01-01T18:39:36.291018",
     "exception": false,
     "start_time": "2023-01-01T18:39:36.279527",
     "status": "completed"
    },
    "tags": []
   },
   "outputs": [],
   "source": []
  },
  {
   "cell_type": "code",
   "execution_count": 25,
   "id": "ef628e3a",
   "metadata": {
    "execution": {
     "iopub.execute_input": "2023-01-01T18:39:36.317456Z",
     "iopub.status.busy": "2023-01-01T18:39:36.316986Z",
     "iopub.status.idle": "2023-01-01T18:39:36.323994Z",
     "shell.execute_reply": "2023-01-01T18:39:36.322866Z"
    },
    "papermill": {
     "duration": 0.023495,
     "end_time": "2023-01-01T18:39:36.326852",
     "exception": false,
     "start_time": "2023-01-01T18:39:36.303357",
     "status": "completed"
    },
    "tags": []
   },
   "outputs": [],
   "source": [
    "df['equity_amt']=df['deal'].apply(equity_in_lakhs)"
   ]
  },
  {
   "cell_type": "code",
   "execution_count": 26,
   "id": "a67524ea",
   "metadata": {
    "execution": {
     "iopub.execute_input": "2023-01-01T18:39:36.352354Z",
     "iopub.status.busy": "2023-01-01T18:39:36.351955Z",
     "iopub.status.idle": "2023-01-01T18:39:36.369881Z",
     "shell.execute_reply": "2023-01-01T18:39:36.368578Z"
    },
    "papermill": {
     "duration": 0.033495,
     "end_time": "2023-01-01T18:39:36.372310",
     "exception": false,
     "start_time": "2023-01-01T18:39:36.338815",
     "status": "completed"
    },
    "tags": []
   },
   "outputs": [
    {
     "data": {
      "text/html": [
       "<div>\n",
       "<style scoped>\n",
       "    .dataframe tbody tr th:only-of-type {\n",
       "        vertical-align: middle;\n",
       "    }\n",
       "\n",
       "    .dataframe tbody tr th {\n",
       "        vertical-align: top;\n",
       "    }\n",
       "\n",
       "    .dataframe thead th {\n",
       "        text-align: right;\n",
       "    }\n",
       "</style>\n",
       "<table border=\"1\" class=\"dataframe\">\n",
       "  <thead>\n",
       "    <tr style=\"text-align: right;\">\n",
       "      <th></th>\n",
       "      <th>episode</th>\n",
       "      <th>company</th>\n",
       "      <th>idea</th>\n",
       "      <th>deal</th>\n",
       "      <th>ashneer</th>\n",
       "      <th>namita</th>\n",
       "      <th>anupam</th>\n",
       "      <th>vineeta</th>\n",
       "      <th>aman</th>\n",
       "      <th>peyush</th>\n",
       "      <th>equity_amt</th>\n",
       "    </tr>\n",
       "    <tr>\n",
       "      <th>pitch_no</th>\n",
       "      <th></th>\n",
       "      <th></th>\n",
       "      <th></th>\n",
       "      <th></th>\n",
       "      <th></th>\n",
       "      <th></th>\n",
       "      <th></th>\n",
       "      <th></th>\n",
       "      <th></th>\n",
       "      <th></th>\n",
       "      <th></th>\n",
       "    </tr>\n",
       "  </thead>\n",
       "  <tbody>\n",
       "    <tr>\n",
       "      <th>1</th>\n",
       "      <td>1</td>\n",
       "      <td>BluePine Industries</td>\n",
       "      <td>Frozen Momos</td>\n",
       "      <td>75 lakhs for 18% equity</td>\n",
       "      <td>Y</td>\n",
       "      <td>N</td>\n",
       "      <td>N</td>\n",
       "      <td>Y</td>\n",
       "      <td>Y</td>\n",
       "      <td>N</td>\n",
       "      <td>75.0</td>\n",
       "    </tr>\n",
       "    <tr>\n",
       "      <th>2</th>\n",
       "      <td>1</td>\n",
       "      <td>Booz scooters</td>\n",
       "      <td>Renting e-bike for mobility in private spaces</td>\n",
       "      <td>40 lakhs for 50% equity</td>\n",
       "      <td>Y</td>\n",
       "      <td>N</td>\n",
       "      <td>N</td>\n",
       "      <td>Y</td>\n",
       "      <td>N</td>\n",
       "      <td>N</td>\n",
       "      <td>40.0</td>\n",
       "    </tr>\n",
       "    <tr>\n",
       "      <th>3</th>\n",
       "      <td>1</td>\n",
       "      <td>Heart up my Sleeves</td>\n",
       "      <td>Detachable Sleeves</td>\n",
       "      <td>25 lakhs for 30% equity</td>\n",
       "      <td>N</td>\n",
       "      <td>N</td>\n",
       "      <td>Y</td>\n",
       "      <td>Y</td>\n",
       "      <td>N</td>\n",
       "      <td>N</td>\n",
       "      <td>25.0</td>\n",
       "    </tr>\n",
       "    <tr>\n",
       "      <th>4</th>\n",
       "      <td>2</td>\n",
       "      <td>Tagz Foods</td>\n",
       "      <td>Healthy Potato Chips</td>\n",
       "      <td>No Deal</td>\n",
       "      <td>Y</td>\n",
       "      <td>N</td>\n",
       "      <td>N</td>\n",
       "      <td>N</td>\n",
       "      <td>N</td>\n",
       "      <td>N</td>\n",
       "      <td>0.0</td>\n",
       "    </tr>\n",
       "    <tr>\n",
       "      <th>5</th>\n",
       "      <td>2</td>\n",
       "      <td>Head and Heart</td>\n",
       "      <td>Brain Development Course</td>\n",
       "      <td>No Deal</td>\n",
       "      <td>N</td>\n",
       "      <td>N</td>\n",
       "      <td>N</td>\n",
       "      <td>N</td>\n",
       "      <td>N</td>\n",
       "      <td>N</td>\n",
       "      <td>0.0</td>\n",
       "    </tr>\n",
       "  </tbody>\n",
       "</table>\n",
       "</div>"
      ],
      "text/plain": [
       "          episode              company  \\\n",
       "pitch_no                                 \n",
       "1               1  BluePine Industries   \n",
       "2               1        Booz scooters   \n",
       "3               1  Heart up my Sleeves   \n",
       "4               2           Tagz Foods   \n",
       "5               2       Head and Heart   \n",
       "\n",
       "                                                   idea  \\\n",
       "pitch_no                                                  \n",
       "1                                          Frozen Momos   \n",
       "2         Renting e-bike for mobility in private spaces   \n",
       "3                                    Detachable Sleeves   \n",
       "4                                  Healthy Potato Chips   \n",
       "5                              Brain Development Course   \n",
       "\n",
       "                             deal ashneer namita anupam vineeta aman peyush  \\\n",
       "pitch_no                                                                      \n",
       "1         75 lakhs for 18% equity       Y      N      N       Y    Y      N   \n",
       "2         40 lakhs for 50% equity       Y      N      N       Y    N      N   \n",
       "3         25 lakhs for 30% equity       N      N      Y       Y    N      N   \n",
       "4                         No Deal       Y      N      N       N    N      N   \n",
       "5                         No Deal       N      N      N       N    N      N   \n",
       "\n",
       "          equity_amt  \n",
       "pitch_no              \n",
       "1               75.0  \n",
       "2               40.0  \n",
       "3               25.0  \n",
       "4                0.0  \n",
       "5                0.0  "
      ]
     },
     "execution_count": 26,
     "metadata": {},
     "output_type": "execute_result"
    }
   ],
   "source": [
    "df.head()"
   ]
  },
  {
   "cell_type": "code",
   "execution_count": 27,
   "id": "577db3a8",
   "metadata": {
    "execution": {
     "iopub.execute_input": "2023-01-01T18:39:36.400120Z",
     "iopub.status.busy": "2023-01-01T18:39:36.399670Z",
     "iopub.status.idle": "2023-01-01T18:39:36.407172Z",
     "shell.execute_reply": "2023-01-01T18:39:36.406167Z"
    },
    "papermill": {
     "duration": 0.023644,
     "end_time": "2023-01-01T18:39:36.409466",
     "exception": false,
     "start_time": "2023-01-01T18:39:36.385822",
     "status": "completed"
    },
    "tags": []
   },
   "outputs": [],
   "source": [
    "df=df.loc[df['equity_amt']!=-1]"
   ]
  },
  {
   "cell_type": "code",
   "execution_count": 28,
   "id": "38ca8da7",
   "metadata": {
    "execution": {
     "iopub.execute_input": "2023-01-01T18:39:36.436133Z",
     "iopub.status.busy": "2023-01-01T18:39:36.435733Z",
     "iopub.status.idle": "2023-01-01T18:39:36.443326Z",
     "shell.execute_reply": "2023-01-01T18:39:36.442168Z"
    },
    "papermill": {
     "duration": 0.023895,
     "end_time": "2023-01-01T18:39:36.445660",
     "exception": false,
     "start_time": "2023-01-01T18:39:36.421765",
     "status": "completed"
    },
    "tags": []
   },
   "outputs": [
    {
     "data": {
      "text/plain": [
       "(97, 11)"
      ]
     },
     "execution_count": 28,
     "metadata": {},
     "output_type": "execute_result"
    }
   ],
   "source": [
    "df.shape"
   ]
  },
  {
   "cell_type": "markdown",
   "id": "534ecf06",
   "metadata": {
    "papermill": {
     "duration": 0.01243,
     "end_time": "2023-01-01T18:39:36.470448",
     "exception": false,
     "start_time": "2023-01-01T18:39:36.458018",
     "status": "completed"
    },
    "tags": []
   },
   "source": [
    "cleaning dates"
   ]
  },
  {
   "cell_type": "code",
   "execution_count": 29,
   "id": "50f47de7",
   "metadata": {
    "execution": {
     "iopub.execute_input": "2023-01-01T18:39:36.497018Z",
     "iopub.status.busy": "2023-01-01T18:39:36.496569Z",
     "iopub.status.idle": "2023-01-01T18:39:36.502409Z",
     "shell.execute_reply": "2023-01-01T18:39:36.501071Z"
    },
    "papermill": {
     "duration": 0.02242,
     "end_time": "2023-01-01T18:39:36.505150",
     "exception": false,
     "start_time": "2023-01-01T18:39:36.482730",
     "status": "completed"
    },
    "tags": []
   },
   "outputs": [],
   "source": [
    "dates=['1/1/2023','1st january 2023','1-1-2023','january 1st 2023']\n",
    "dates=pd.Series(dates)"
   ]
  },
  {
   "cell_type": "code",
   "execution_count": 30,
   "id": "26489e80",
   "metadata": {
    "execution": {
     "iopub.execute_input": "2023-01-01T18:39:36.532120Z",
     "iopub.status.busy": "2023-01-01T18:39:36.531688Z",
     "iopub.status.idle": "2023-01-01T18:39:36.539784Z",
     "shell.execute_reply": "2023-01-01T18:39:36.538570Z"
    },
    "papermill": {
     "duration": 0.024579,
     "end_time": "2023-01-01T18:39:36.542370",
     "exception": false,
     "start_time": "2023-01-01T18:39:36.517791",
     "status": "completed"
    },
    "tags": []
   },
   "outputs": [
    {
     "data": {
      "text/plain": [
       "0            1/1/2023\n",
       "1    1st january 2023\n",
       "2            1-1-2023\n",
       "3    january 1st 2023\n",
       "dtype: object"
      ]
     },
     "execution_count": 30,
     "metadata": {},
     "output_type": "execute_result"
    }
   ],
   "source": [
    "dates"
   ]
  },
  {
   "cell_type": "code",
   "execution_count": 31,
   "id": "14a54d57",
   "metadata": {
    "execution": {
     "iopub.execute_input": "2023-01-01T18:39:36.569519Z",
     "iopub.status.busy": "2023-01-01T18:39:36.568990Z",
     "iopub.status.idle": "2023-01-01T18:39:36.582112Z",
     "shell.execute_reply": "2023-01-01T18:39:36.581056Z"
    },
    "papermill": {
     "duration": 0.029434,
     "end_time": "2023-01-01T18:39:36.584459",
     "exception": false,
     "start_time": "2023-01-01T18:39:36.555025",
     "status": "completed"
    },
    "tags": []
   },
   "outputs": [
    {
     "data": {
      "text/plain": [
       "0   2023-01-01\n",
       "1   2023-01-01\n",
       "2   2023-01-01\n",
       "3   2023-01-01\n",
       "dtype: datetime64[ns]"
      ]
     },
     "execution_count": 31,
     "metadata": {},
     "output_type": "execute_result"
    }
   ],
   "source": [
    "pd.to_datetime(dates)"
   ]
  },
  {
   "cell_type": "code",
   "execution_count": 32,
   "id": "3ce9a453",
   "metadata": {
    "execution": {
     "iopub.execute_input": "2023-01-01T18:39:36.612054Z",
     "iopub.status.busy": "2023-01-01T18:39:36.611586Z",
     "iopub.status.idle": "2023-01-01T18:39:36.631139Z",
     "shell.execute_reply": "2023-01-01T18:39:36.629880Z"
    },
    "papermill": {
     "duration": 0.036216,
     "end_time": "2023-01-01T18:39:36.633784",
     "exception": false,
     "start_time": "2023-01-01T18:39:36.597568",
     "status": "completed"
    },
    "tags": []
   },
   "outputs": [
    {
     "data": {
      "text/html": [
       "<div>\n",
       "<style scoped>\n",
       "    .dataframe tbody tr th:only-of-type {\n",
       "        vertical-align: middle;\n",
       "    }\n",
       "\n",
       "    .dataframe tbody tr th {\n",
       "        vertical-align: top;\n",
       "    }\n",
       "\n",
       "    .dataframe thead th {\n",
       "        text-align: right;\n",
       "    }\n",
       "</style>\n",
       "<table border=\"1\" class=\"dataframe\">\n",
       "  <thead>\n",
       "    <tr style=\"text-align: right;\">\n",
       "      <th></th>\n",
       "      <th>episode</th>\n",
       "      <th>company</th>\n",
       "      <th>idea</th>\n",
       "      <th>deal</th>\n",
       "      <th>ashneer</th>\n",
       "      <th>namita</th>\n",
       "      <th>anupam</th>\n",
       "      <th>vineeta</th>\n",
       "      <th>aman</th>\n",
       "      <th>peyush</th>\n",
       "      <th>equity_amt</th>\n",
       "    </tr>\n",
       "    <tr>\n",
       "      <th>pitch_no</th>\n",
       "      <th></th>\n",
       "      <th></th>\n",
       "      <th></th>\n",
       "      <th></th>\n",
       "      <th></th>\n",
       "      <th></th>\n",
       "      <th></th>\n",
       "      <th></th>\n",
       "      <th></th>\n",
       "      <th></th>\n",
       "      <th></th>\n",
       "    </tr>\n",
       "  </thead>\n",
       "  <tbody>\n",
       "    <tr>\n",
       "      <th>1</th>\n",
       "      <td>1</td>\n",
       "      <td>BluePine Industries</td>\n",
       "      <td>Frozen Momos</td>\n",
       "      <td>75 lakhs for 18% equity</td>\n",
       "      <td>Y</td>\n",
       "      <td>N</td>\n",
       "      <td>N</td>\n",
       "      <td>Y</td>\n",
       "      <td>Y</td>\n",
       "      <td>N</td>\n",
       "      <td>75.0</td>\n",
       "    </tr>\n",
       "    <tr>\n",
       "      <th>2</th>\n",
       "      <td>1</td>\n",
       "      <td>Booz scooters</td>\n",
       "      <td>Renting e-bike for mobility in private spaces</td>\n",
       "      <td>40 lakhs for 50% equity</td>\n",
       "      <td>Y</td>\n",
       "      <td>N</td>\n",
       "      <td>N</td>\n",
       "      <td>Y</td>\n",
       "      <td>N</td>\n",
       "      <td>N</td>\n",
       "      <td>40.0</td>\n",
       "    </tr>\n",
       "    <tr>\n",
       "      <th>3</th>\n",
       "      <td>1</td>\n",
       "      <td>Heart up my Sleeves</td>\n",
       "      <td>Detachable Sleeves</td>\n",
       "      <td>25 lakhs for 30% equity</td>\n",
       "      <td>N</td>\n",
       "      <td>N</td>\n",
       "      <td>Y</td>\n",
       "      <td>Y</td>\n",
       "      <td>N</td>\n",
       "      <td>N</td>\n",
       "      <td>25.0</td>\n",
       "    </tr>\n",
       "    <tr>\n",
       "      <th>4</th>\n",
       "      <td>2</td>\n",
       "      <td>Tagz Foods</td>\n",
       "      <td>Healthy Potato Chips</td>\n",
       "      <td>No Deal</td>\n",
       "      <td>Y</td>\n",
       "      <td>N</td>\n",
       "      <td>N</td>\n",
       "      <td>N</td>\n",
       "      <td>N</td>\n",
       "      <td>N</td>\n",
       "      <td>0.0</td>\n",
       "    </tr>\n",
       "    <tr>\n",
       "      <th>5</th>\n",
       "      <td>2</td>\n",
       "      <td>Head and Heart</td>\n",
       "      <td>Brain Development Course</td>\n",
       "      <td>No Deal</td>\n",
       "      <td>N</td>\n",
       "      <td>N</td>\n",
       "      <td>N</td>\n",
       "      <td>N</td>\n",
       "      <td>N</td>\n",
       "      <td>N</td>\n",
       "      <td>0.0</td>\n",
       "    </tr>\n",
       "  </tbody>\n",
       "</table>\n",
       "</div>"
      ],
      "text/plain": [
       "          episode              company  \\\n",
       "pitch_no                                 \n",
       "1               1  BluePine Industries   \n",
       "2               1        Booz scooters   \n",
       "3               1  Heart up my Sleeves   \n",
       "4               2           Tagz Foods   \n",
       "5               2       Head and Heart   \n",
       "\n",
       "                                                   idea  \\\n",
       "pitch_no                                                  \n",
       "1                                          Frozen Momos   \n",
       "2         Renting e-bike for mobility in private spaces   \n",
       "3                                    Detachable Sleeves   \n",
       "4                                  Healthy Potato Chips   \n",
       "5                              Brain Development Course   \n",
       "\n",
       "                             deal ashneer namita anupam vineeta aman peyush  \\\n",
       "pitch_no                                                                      \n",
       "1         75 lakhs for 18% equity       Y      N      N       Y    Y      N   \n",
       "2         40 lakhs for 50% equity       Y      N      N       Y    N      N   \n",
       "3         25 lakhs for 30% equity       N      N      Y       Y    N      N   \n",
       "4                         No Deal       Y      N      N       N    N      N   \n",
       "5                         No Deal       N      N      N       N    N      N   \n",
       "\n",
       "          equity_amt  \n",
       "pitch_no              \n",
       "1               75.0  \n",
       "2               40.0  \n",
       "3               25.0  \n",
       "4                0.0  \n",
       "5                0.0  "
      ]
     },
     "execution_count": 32,
     "metadata": {},
     "output_type": "execute_result"
    }
   ],
   "source": [
    "df.head()"
   ]
  },
  {
   "cell_type": "code",
   "execution_count": 33,
   "id": "abc7b0ae",
   "metadata": {
    "execution": {
     "iopub.execute_input": "2023-01-01T18:39:36.663663Z",
     "iopub.status.busy": "2023-01-01T18:39:36.663092Z",
     "iopub.status.idle": "2023-01-01T18:39:36.674007Z",
     "shell.execute_reply": "2023-01-01T18:39:36.672528Z"
    },
    "papermill": {
     "duration": 0.028888,
     "end_time": "2023-01-01T18:39:36.676654",
     "exception": false,
     "start_time": "2023-01-01T18:39:36.647766",
     "status": "completed"
    },
    "tags": []
   },
   "outputs": [],
   "source": [
    "def valuation(s):\n",
    "    s=s.lower();\n",
    "    if(s=='no deal'):\n",
    "        amount=0\n",
    "        percent=0\n",
    "        value=0\n",
    "    else:\n",
    "        percent=float(s.split('for')[1].split('%')[0])\n",
    "        if(s.split('for')[0].split(' ')[1].startswith('lakh')):\n",
    "            amount=float(s.split('for')[0].split(' ')[0])\n",
    "        elif(s.split('for')[0].split(' ')[1].startswith('crore')):\n",
    "            amount=float(s.split('for')[0].split(' ')[0])*100\n",
    "        value=(amount*100)/percent\n",
    "        \n",
    "    return round(value,1)"
   ]
  },
  {
   "cell_type": "code",
   "execution_count": 34,
   "id": "62648a9a",
   "metadata": {
    "execution": {
     "iopub.execute_input": "2023-01-01T18:39:36.704914Z",
     "iopub.status.busy": "2023-01-01T18:39:36.704420Z",
     "iopub.status.idle": "2023-01-01T18:39:36.711911Z",
     "shell.execute_reply": "2023-01-01T18:39:36.710581Z"
    },
    "papermill": {
     "duration": 0.024565,
     "end_time": "2023-01-01T18:39:36.714279",
     "exception": false,
     "start_time": "2023-01-01T18:39:36.689714",
     "status": "completed"
    },
    "tags": []
   },
   "outputs": [
    {
     "data": {
      "text/plain": [
       "80.0"
      ]
     },
     "execution_count": 34,
     "metadata": {},
     "output_type": "execute_result"
    }
   ],
   "source": [
    "valuation('40 lakhs for 50% equity')"
   ]
  },
  {
   "cell_type": "code",
   "execution_count": 35,
   "id": "dfed7496",
   "metadata": {
    "execution": {
     "iopub.execute_input": "2023-01-01T18:39:36.743689Z",
     "iopub.status.busy": "2023-01-01T18:39:36.743137Z",
     "iopub.status.idle": "2023-01-01T18:39:36.750807Z",
     "shell.execute_reply": "2023-01-01T18:39:36.749373Z"
    },
    "papermill": {
     "duration": 0.025067,
     "end_time": "2023-01-01T18:39:36.753182",
     "exception": false,
     "start_time": "2023-01-01T18:39:36.728115",
     "status": "completed"
    },
    "tags": []
   },
   "outputs": [],
   "source": [
    "df['valuation_in_crores']=df['deal'].apply(valuation)"
   ]
  },
  {
   "cell_type": "code",
   "execution_count": 36,
   "id": "f5a9342d",
   "metadata": {
    "execution": {
     "iopub.execute_input": "2023-01-01T18:39:36.781227Z",
     "iopub.status.busy": "2023-01-01T18:39:36.780755Z",
     "iopub.status.idle": "2023-01-01T18:39:36.791532Z",
     "shell.execute_reply": "2023-01-01T18:39:36.790246Z"
    },
    "papermill": {
     "duration": 0.027937,
     "end_time": "2023-01-01T18:39:36.794169",
     "exception": false,
     "start_time": "2023-01-01T18:39:36.766232",
     "status": "completed"
    },
    "tags": []
   },
   "outputs": [
    {
     "data": {
      "text/plain": [
       "pitch_no\n",
       "1      416.7\n",
       "2       80.0\n",
       "3       83.3\n",
       "4        0.0\n",
       "5        0.0\n",
       "6        0.0\n",
       "7        0.0\n",
       "8     1250.0\n",
       "9      133.3\n",
       "10       0.0\n",
       "11       0.0\n",
       "12    1000.0\n",
       "13       0.0\n",
       "14       0.0\n",
       "15       0.0\n",
       "16       0.0\n",
       "17     250.0\n",
       "18       0.0\n",
       "19       0.0\n",
       "20       0.0\n",
       "21       0.0\n",
       "22       0.0\n",
       "23     168.0\n",
       "24     500.0\n",
       "25       0.0\n",
       "Name: valuation_in_crores, dtype: float64"
      ]
     },
     "execution_count": 36,
     "metadata": {},
     "output_type": "execute_result"
    }
   ],
   "source": [
    "df['valuation_in_crores'].head(25)"
   ]
  },
  {
   "cell_type": "code",
   "execution_count": 37,
   "id": "4850fe08",
   "metadata": {
    "execution": {
     "iopub.execute_input": "2023-01-01T18:39:36.823108Z",
     "iopub.status.busy": "2023-01-01T18:39:36.822598Z",
     "iopub.status.idle": "2023-01-01T18:39:36.842462Z",
     "shell.execute_reply": "2023-01-01T18:39:36.841100Z"
    },
    "papermill": {
     "duration": 0.037293,
     "end_time": "2023-01-01T18:39:36.844823",
     "exception": false,
     "start_time": "2023-01-01T18:39:36.807530",
     "status": "completed"
    },
    "tags": []
   },
   "outputs": [
    {
     "data": {
      "text/html": [
       "<div>\n",
       "<style scoped>\n",
       "    .dataframe tbody tr th:only-of-type {\n",
       "        vertical-align: middle;\n",
       "    }\n",
       "\n",
       "    .dataframe tbody tr th {\n",
       "        vertical-align: top;\n",
       "    }\n",
       "\n",
       "    .dataframe thead th {\n",
       "        text-align: right;\n",
       "    }\n",
       "</style>\n",
       "<table border=\"1\" class=\"dataframe\">\n",
       "  <thead>\n",
       "    <tr style=\"text-align: right;\">\n",
       "      <th></th>\n",
       "      <th>episode</th>\n",
       "      <th>company</th>\n",
       "      <th>idea</th>\n",
       "      <th>deal</th>\n",
       "      <th>ashneer</th>\n",
       "      <th>namita</th>\n",
       "      <th>anupam</th>\n",
       "      <th>vineeta</th>\n",
       "      <th>aman</th>\n",
       "      <th>peyush</th>\n",
       "      <th>equity_amt</th>\n",
       "      <th>valuation_in_crores</th>\n",
       "    </tr>\n",
       "    <tr>\n",
       "      <th>pitch_no</th>\n",
       "      <th></th>\n",
       "      <th></th>\n",
       "      <th></th>\n",
       "      <th></th>\n",
       "      <th></th>\n",
       "      <th></th>\n",
       "      <th></th>\n",
       "      <th></th>\n",
       "      <th></th>\n",
       "      <th></th>\n",
       "      <th></th>\n",
       "      <th></th>\n",
       "    </tr>\n",
       "  </thead>\n",
       "  <tbody>\n",
       "    <tr>\n",
       "      <th>1</th>\n",
       "      <td>1</td>\n",
       "      <td>BluePine Industries</td>\n",
       "      <td>Frozen Momos</td>\n",
       "      <td>75 lakhs for 18% equity</td>\n",
       "      <td>Y</td>\n",
       "      <td>N</td>\n",
       "      <td>N</td>\n",
       "      <td>Y</td>\n",
       "      <td>Y</td>\n",
       "      <td>N</td>\n",
       "      <td>75.0</td>\n",
       "      <td>416.7</td>\n",
       "    </tr>\n",
       "    <tr>\n",
       "      <th>2</th>\n",
       "      <td>1</td>\n",
       "      <td>Booz scooters</td>\n",
       "      <td>Renting e-bike for mobility in private spaces</td>\n",
       "      <td>40 lakhs for 50% equity</td>\n",
       "      <td>Y</td>\n",
       "      <td>N</td>\n",
       "      <td>N</td>\n",
       "      <td>Y</td>\n",
       "      <td>N</td>\n",
       "      <td>N</td>\n",
       "      <td>40.0</td>\n",
       "      <td>80.0</td>\n",
       "    </tr>\n",
       "    <tr>\n",
       "      <th>3</th>\n",
       "      <td>1</td>\n",
       "      <td>Heart up my Sleeves</td>\n",
       "      <td>Detachable Sleeves</td>\n",
       "      <td>25 lakhs for 30% equity</td>\n",
       "      <td>N</td>\n",
       "      <td>N</td>\n",
       "      <td>Y</td>\n",
       "      <td>Y</td>\n",
       "      <td>N</td>\n",
       "      <td>N</td>\n",
       "      <td>25.0</td>\n",
       "      <td>83.3</td>\n",
       "    </tr>\n",
       "    <tr>\n",
       "      <th>4</th>\n",
       "      <td>2</td>\n",
       "      <td>Tagz Foods</td>\n",
       "      <td>Healthy Potato Chips</td>\n",
       "      <td>No Deal</td>\n",
       "      <td>Y</td>\n",
       "      <td>N</td>\n",
       "      <td>N</td>\n",
       "      <td>N</td>\n",
       "      <td>N</td>\n",
       "      <td>N</td>\n",
       "      <td>0.0</td>\n",
       "      <td>0.0</td>\n",
       "    </tr>\n",
       "    <tr>\n",
       "      <th>5</th>\n",
       "      <td>2</td>\n",
       "      <td>Head and Heart</td>\n",
       "      <td>Brain Development Course</td>\n",
       "      <td>No Deal</td>\n",
       "      <td>N</td>\n",
       "      <td>N</td>\n",
       "      <td>N</td>\n",
       "      <td>N</td>\n",
       "      <td>N</td>\n",
       "      <td>N</td>\n",
       "      <td>0.0</td>\n",
       "      <td>0.0</td>\n",
       "    </tr>\n",
       "  </tbody>\n",
       "</table>\n",
       "</div>"
      ],
      "text/plain": [
       "          episode              company  \\\n",
       "pitch_no                                 \n",
       "1               1  BluePine Industries   \n",
       "2               1        Booz scooters   \n",
       "3               1  Heart up my Sleeves   \n",
       "4               2           Tagz Foods   \n",
       "5               2       Head and Heart   \n",
       "\n",
       "                                                   idea  \\\n",
       "pitch_no                                                  \n",
       "1                                          Frozen Momos   \n",
       "2         Renting e-bike for mobility in private spaces   \n",
       "3                                    Detachable Sleeves   \n",
       "4                                  Healthy Potato Chips   \n",
       "5                              Brain Development Course   \n",
       "\n",
       "                             deal ashneer namita anupam vineeta aman peyush  \\\n",
       "pitch_no                                                                      \n",
       "1         75 lakhs for 18% equity       Y      N      N       Y    Y      N   \n",
       "2         40 lakhs for 50% equity       Y      N      N       Y    N      N   \n",
       "3         25 lakhs for 30% equity       N      N      Y       Y    N      N   \n",
       "4                         No Deal       Y      N      N       N    N      N   \n",
       "5                         No Deal       N      N      N       N    N      N   \n",
       "\n",
       "          equity_amt  valuation_in_crores  \n",
       "pitch_no                                   \n",
       "1               75.0                416.7  \n",
       "2               40.0                 80.0  \n",
       "3               25.0                 83.3  \n",
       "4                0.0                  0.0  \n",
       "5                0.0                  0.0  "
      ]
     },
     "execution_count": 37,
     "metadata": {},
     "output_type": "execute_result"
    }
   ],
   "source": [
    "df.head()"
   ]
  },
  {
   "cell_type": "code",
   "execution_count": 38,
   "id": "de0fe467",
   "metadata": {
    "execution": {
     "iopub.execute_input": "2023-01-01T18:39:36.875081Z",
     "iopub.status.busy": "2023-01-01T18:39:36.874627Z",
     "iopub.status.idle": "2023-01-01T18:39:36.898468Z",
     "shell.execute_reply": "2023-01-01T18:39:36.897104Z"
    },
    "papermill": {
     "duration": 0.042425,
     "end_time": "2023-01-01T18:39:36.901392",
     "exception": false,
     "start_time": "2023-01-01T18:39:36.858967",
     "status": "completed"
    },
    "tags": []
   },
   "outputs": [
    {
     "data": {
      "text/html": [
       "<div>\n",
       "<style scoped>\n",
       "    .dataframe tbody tr th:only-of-type {\n",
       "        vertical-align: middle;\n",
       "    }\n",
       "\n",
       "    .dataframe tbody tr th {\n",
       "        vertical-align: top;\n",
       "    }\n",
       "\n",
       "    .dataframe thead th {\n",
       "        text-align: right;\n",
       "    }\n",
       "</style>\n",
       "<table border=\"1\" class=\"dataframe\">\n",
       "  <thead>\n",
       "    <tr style=\"text-align: right;\">\n",
       "      <th></th>\n",
       "      <th>episode</th>\n",
       "      <th>equity_amt</th>\n",
       "      <th>valuation_in_crores</th>\n",
       "    </tr>\n",
       "  </thead>\n",
       "  <tbody>\n",
       "    <tr>\n",
       "      <th>count</th>\n",
       "      <td>97.000000</td>\n",
       "      <td>97.000000</td>\n",
       "      <td>97.000000</td>\n",
       "    </tr>\n",
       "    <tr>\n",
       "      <th>mean</th>\n",
       "      <td>17.247423</td>\n",
       "      <td>19.247423</td>\n",
       "      <td>208.768041</td>\n",
       "    </tr>\n",
       "    <tr>\n",
       "      <th>std</th>\n",
       "      <td>10.373274</td>\n",
       "      <td>31.598402</td>\n",
       "      <td>474.415680</td>\n",
       "    </tr>\n",
       "    <tr>\n",
       "      <th>min</th>\n",
       "      <td>1.000000</td>\n",
       "      <td>0.000000</td>\n",
       "      <td>0.000000</td>\n",
       "    </tr>\n",
       "    <tr>\n",
       "      <th>25%</th>\n",
       "      <td>9.000000</td>\n",
       "      <td>0.000000</td>\n",
       "      <td>0.000000</td>\n",
       "    </tr>\n",
       "    <tr>\n",
       "      <th>50%</th>\n",
       "      <td>17.000000</td>\n",
       "      <td>0.000000</td>\n",
       "      <td>0.000000</td>\n",
       "    </tr>\n",
       "    <tr>\n",
       "      <th>75%</th>\n",
       "      <td>23.000000</td>\n",
       "      <td>35.000000</td>\n",
       "      <td>150.000000</td>\n",
       "    </tr>\n",
       "    <tr>\n",
       "      <th>max</th>\n",
       "      <td>35.000000</td>\n",
       "      <td>150.000000</td>\n",
       "      <td>2798.500000</td>\n",
       "    </tr>\n",
       "  </tbody>\n",
       "</table>\n",
       "</div>"
      ],
      "text/plain": [
       "         episode  equity_amt  valuation_in_crores\n",
       "count  97.000000   97.000000            97.000000\n",
       "mean   17.247423   19.247423           208.768041\n",
       "std    10.373274   31.598402           474.415680\n",
       "min     1.000000    0.000000             0.000000\n",
       "25%     9.000000    0.000000             0.000000\n",
       "50%    17.000000    0.000000             0.000000\n",
       "75%    23.000000   35.000000           150.000000\n",
       "max    35.000000  150.000000          2798.500000"
      ]
     },
     "execution_count": 38,
     "metadata": {},
     "output_type": "execute_result"
    }
   ],
   "source": [
    "df.describe()"
   ]
  }
 ],
 "metadata": {
  "kernelspec": {
   "display_name": "Python 3",
   "language": "python",
   "name": "python3"
  },
  "language_info": {
   "codemirror_mode": {
    "name": "ipython",
    "version": 3
   },
   "file_extension": ".py",
   "mimetype": "text/x-python",
   "name": "python",
   "nbconvert_exporter": "python",
   "pygments_lexer": "ipython3",
   "version": "3.7.12"
  },
  "papermill": {
   "default_parameters": {},
   "duration": 12.524126,
   "end_time": "2023-01-01T18:39:37.638433",
   "environment_variables": {},
   "exception": null,
   "input_path": "__notebook__.ipynb",
   "output_path": "__notebook__.ipynb",
   "parameters": {},
   "start_time": "2023-01-01T18:39:25.114307",
   "version": "2.3.4"
  }
 },
 "nbformat": 4,
 "nbformat_minor": 5
}
